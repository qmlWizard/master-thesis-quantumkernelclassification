{
 "cells": [
  {
   "cell_type": "code",
   "execution_count": 33,
   "metadata": {},
   "outputs": [],
   "source": [
    "from pennylane import numpy as np\n",
    "import matplotlib as mpl\n",
    "import matplotlib.pyplot as plt\n",
    "import pennylane as qml\n",
    "import pandas as pd\n",
    "from sklearn.svm import SVC\n",
    "from sklearn.model_selection import train_test_split\n",
    "from sklearn import preprocessing"
   ]
  },
  {
   "cell_type": "markdown",
   "metadata": {},
   "source": [
    "Data Dimentionality Reduction"
   ]
  },
  {
   "cell_type": "code",
   "execution_count": 37,
   "metadata": {},
   "outputs": [],
   "source": [
    "def powerFaultData(method = 'pca'):\n",
    "\n",
    "\tif method == 'pca':\n",
    "\t\tpowerData = pd.read_csv('/Users/digvijay/Developer/MasterThesis/master-thesis-quantumkernelclassification/Code/DR_data/pca3.csv')\n",
    "\t\t\n",
    "\t\tX = []\n",
    "\t\tY = []\n",
    "\n",
    "\t\tX = powerData[['pc1', 'pc2', 'pc3']]\n",
    "\t\tY = powerData[['fault']]\n",
    "\t\tY = np.asarray(Y).astype(int)\n",
    "\n",
    "\t\tX, xt, Y, yt = train_test_split(X, Y, test_size = 0.985, shuffle=True, random_state=42)\n",
    "\n",
    "\t\txTrain, xTest, yTrain, yTest = train_test_split(X, Y, test_size = 0.20, shuffle=True, random_state=42)\n",
    "\t\txTrain = preprocessing.normalize(xTrain)\n",
    "\t\txTest = preprocessing.normalize(xTest)\n",
    "\n",
    "\t\treturn xTrain, yTrain, xTest, yTest\n",
    "\t\n",
    "\tif method == 'fda':\n",
    "\t\tpowerData = pd.read_csv('/Users/digvijay/Developer/MasterThesis/master-thesis-quantumkernelclassification/Code/DR_data/lda3.csv')\n",
    "\t\t\n",
    "\t\tX = []\n",
    "\t\tY = []\n",
    "\n",
    "\t\tX = powerData[['LD1', 'LD2', 'LD3']]\n",
    "\t\tY = powerData[['fault']]\n",
    "\t\tY = np.asarray(Y).astype(int)\n",
    "\n",
    "\t\txTrain, xTest, yTrain, yTest = train_test_split(X, Y, test_size = 0.95, shuffle=True, random_state=42)\n",
    "\t\txTrain = preprocessing.normalize(xTrain)\n",
    "\t\txTest = preprocessing.normalize(xTest)\n",
    "\n",
    "\t\treturn xTrain, yTrain, xTest, yTest\n",
    "\n",
    "X, Y, X_test, Y_test = powerFaultData('pca')\n",
    "Y = Y.ravel()\n",
    "print(\"Data: \", X[0])\n",
    "print(\"Label: \", Y[0])"
   ]
  },
  {
   "cell_type": "markdown",
   "metadata": {},
   "source": [
    "Kernel Alignment with Variation Circuit"
   ]
  },
  {
   "cell_type": "code",
   "execution_count": 40,
   "metadata": {},
   "outputs": [],
   "source": [
    "def target_alignment(\n",
    "    X,\n",
    "    Y,\n",
    "    kernel,\n",
    "    assume_normalized_kernel=False,\n",
    "    rescale_class_labels=True,\n",
    "):\n",
    "    \"\"\"Kernel-target alignment between kernel and labels.\"\"\"\n",
    "\n",
    "    K = qml.kernels.square_kernel_matrix(\n",
    "        X,\n",
    "        kernel,\n",
    "        assume_normalized_kernel=assume_normalized_kernel,\n",
    "    )\n",
    "\n",
    "    if rescale_class_labels:\n",
    "        nplus = np.count_nonzero(np.array(Y) == 1)\n",
    "        nminus = len(Y) - nplus\n",
    "        _Y = np.array([y / nplus if y == 1 else y / nminus for y in Y])\n",
    "    else:\n",
    "        _Y = np.array(Y)\n",
    "\n",
    "    T = np.outer(_Y, _Y)\n",
    "    inner_product = np.sum(K * T)\n",
    "    norm = np.sqrt(np.sum(K * K) * np.sum(T * T))\n",
    "    inner_product = inner_product / norm\n",
    "\n",
    "    return inner_product"
   ]
  },
  {
   "cell_type": "code",
   "execution_count": 63,
   "metadata": {},
   "outputs": [],
   "source": [
    "dev = qml.device(\"default.qubit\", wires=3, shots=None)\n",
    "wires = dev.wires.tolist()\n",
    "\n",
    "def layer(x, params, wires, i0=0, inc=1):\n",
    "    \n",
    "    i = i0\n",
    "    for j, wire in enumerate(wires):\n",
    "        qml.Hadamard(wires=[wire])\n",
    "        qml.RZ(x[i % len(x)] * params[2, 0], wires=[wire])\n",
    "        #qml.RZ(x[i], wires=[wire])\n",
    "        i += inc\n",
    "        qml.RY(params[0, j], wires=[wire])\n",
    "\n",
    "    qml.broadcast(unitary=qml.CRZ, pattern=\"ring\", wires=wires, parameters=params[1])\n",
    "\n",
    "\n",
    "def ansatz(x, params, wires):\n",
    "    \"\"\"The embedding ansatz\"\"\"\n",
    "    for j, layer_params in enumerate(params):\n",
    "        layer(x, layer_params, wires, i0=j * len(wires))\n",
    "        \n",
    "\n",
    "adjoint_ansatz = qml.adjoint(ansatz)\n",
    "\n",
    "def random_params(num_wires, num_layers):\n",
    "    \"\"\"Generate random variational parameters in the shape for the ansatz.\"\"\"\n",
    "    params = np.random.uniform(0, 2 * np.pi, (1, num_layers * num_wires), requires_grad=True)\n",
    "    return np.random.uniform(0, 2 * np.pi, (num_layers, 3, num_wires), requires_grad=True)\n",
    "\n",
    "@qml.qnode(dev)\n",
    "def kernel_circuit(x1, x2, params):\n",
    "    ansatz(x1, params, wires=wires)\n",
    "    adjoint_ansatz(x2, params, wires=wires)\n",
    "    return qml.probs(wires=wires)\n",
    "\n",
    "def kernel(x1, x2, params):\n",
    "    return kernel_circuit(x1, x2, params)[0]\n",
    "\n",
    "def accuracy(classifier, X, Y_target):\n",
    "    return 1 - np.count_nonzero(classifier.predict(X) - Y_target) / len(Y_target)"
   ]
  },
  {
   "cell_type": "code",
   "execution_count": 42,
   "metadata": {},
   "outputs": [
    {
     "data": {
      "text/plain": [
       "3"
      ]
     },
     "execution_count": 42,
     "metadata": {},
     "output_type": "execute_result"
    }
   ],
   "source": [
    "init_params = random_params(num_wires= 3, num_layers = 6)\n",
    "len(init_params[0])"
   ]
  },
  {
   "cell_type": "code",
   "execution_count": 43,
   "metadata": {},
   "outputs": [
    {
     "name": "stdout",
     "output_type": "stream",
     "text": [
      "The kernel value between the first and second datapoint is 0.356\n",
      "---------------------------------------------------------------------------------------------\n",
      "Quantum Circuit: \n",
      "0: ──H──RZ(1.36)──RY(4.58)─╭●──────────────────╭RZ(2.01)──H──RZ(0.34)──RY(5.25)─╭●─────────────────\n",
      "1: ──H──RZ(2.40)──RY(3.08)─╰RZ(4.12)─╭●────────│──────────H──RZ(0.60)──RY(1.06)─╰RZ(4.29)─╭●───────\n",
      "2: ──H──RZ(0.37)──RY(3.15)───────────╰RZ(3.46)─╰●─────────H──RZ(0.09)──RY(4.05)───────────╰RZ(3.03)\n",
      "\n",
      "──╭RZ(2.37)──H──RZ(1.43)──RY(4.07)─╭●──────────────────╭RZ(1.63)──H──RZ(1.60)──RY(0.17)─╭●───────\n",
      "──│──────────H──RZ(2.51)──RY(2.64)─╰RZ(4.26)─╭●────────│──────────H──RZ(2.82)──RY(2.27)─╰RZ(3.08)\n",
      "──╰●─────────H──RZ(0.39)──RY(3.58)───────────╰RZ(3.23)─╰●─────────H──RZ(0.43)──RY(6.09)──────────\n",
      "\n",
      "────────────╭RZ(1.12)──H──RZ(0.52)──RY(6.20)─╭●──────────────────╭RZ(3.90)──H──RZ(2.35)──RY(3.32)\n",
      "──╭●────────│──────────H──RZ(0.91)──RY(1.62)─╰RZ(3.27)─╭●────────│──────────H──RZ(4.14)──RY(0.48)\n",
      "──╰RZ(3.53)─╰●─────────H──RZ(0.14)──RY(1.10)───────────╰RZ(3.70)─╰●─────────H──RZ(0.64)──RY(0.46)\n",
      "\n",
      "──╭●──────────────────╭RZ(0.55)─╭(RZ(0.55))†──────────────╭●────────────RY(3.32)†───RZ(-2.31)†──H†\n",
      "──╰RZ(5.14)─╭●────────│─────────│────────────╭●───────────╰(RZ(5.14))†──RY(0.48)†───RZ(3.60)†───H†\n",
      "────────────╰RZ(0.67)─╰●────────╰●───────────╰(RZ(0.67))†──RY(0.46)†────RZ(-2.17)†──H†────────────\n",
      "\n",
      "──╭(RZ(3.90))†──────────────╭●────────────RY(6.20)†───RZ(-0.51)†──H†─╭(RZ(1.12))†─────────────\n",
      "──│────────────╭●───────────╰(RZ(3.27))†──RY(1.62)†───RZ(0.79)†───H†─│────────────╭●──────────\n",
      "──╰●───────────╰(RZ(3.70))†──RY(1.10)†────RZ(-0.48)†──H†─────────────╰●───────────╰(RZ(3.53))†\n",
      "\n",
      "──╭●────────────RY(0.17)†───RZ(-1.58)†──H†─╭(RZ(1.63))†──────────────╭●────────────RY(4.07)†─\n",
      "──╰(RZ(3.08))†──RY(2.27)†───RZ(2.45)†───H†─│────────────╭●───────────╰(RZ(4.26))†──RY(2.64)†─\n",
      "───RY(6.09)†────RZ(-1.48)†──H†─────────────╰●───────────╰(RZ(3.23))†──RY(3.58)†────RZ(-1.32)†\n",
      "\n",
      "───RZ(-1.40)†──H†─╭(RZ(2.37))†──────────────╭●────────────RY(5.25)†───RZ(-0.34)†──H†─╭(RZ(2.01))†\n",
      "───RZ(2.18)†───H†─│────────────╭●───────────╰(RZ(4.29))†──RY(1.06)†───RZ(0.52)†───H†─│───────────\n",
      "───H†─────────────╰●───────────╰(RZ(3.03))†──RY(4.05)†────RZ(-0.32)†──H†─────────────╰●──────────\n",
      "\n",
      "───────────────╭●────────────RY(4.58)†───RZ(-1.34)†──H†─┤ ╭Probs\n",
      "──╭●───────────╰(RZ(4.12))†──RY(3.08)†───RZ(2.09)†───H†─┤ ├Probs\n",
      "──╰(RZ(3.46))†──RY(3.15)†────RZ(-1.26)†──H†─────────────┤ ╰Probs\n",
      "---------------------------------------------------------------------------------------------\n"
     ]
    }
   ],
   "source": [
    "kernel_value = kernel(X[0], X[1], init_params)\n",
    "print(f\"The kernel value between the first and second datapoint is {kernel_value:.3f}\")\n",
    "print('---------------------------------------------------------------------------------------------')\n",
    "print('Quantum Circuit: ')\n",
    "drawer = qml.draw(kernel_circuit)\n",
    "print(drawer(X[0], X[1], init_params))\n",
    "print('---------------------------------------------------------------------------------------------')"
   ]
  },
  {
   "cell_type": "code",
   "execution_count": 44,
   "metadata": {},
   "outputs": [
    {
     "name": "stdout",
     "output_type": "stream",
     "text": [
      "The accuracy of a kernel with trained parameters is 0.763\n"
     ]
    }
   ],
   "source": [
    "trained_kernel = lambda x1, x2: kernel(x1, x2, init_params)\n",
    "trained_kernel_matrix = lambda X1, X2: qml.kernels.kernel_matrix(X1, X2, trained_kernel)\n",
    "svm_trained = SVC(kernel=trained_kernel_matrix).fit(X, Y)\n",
    "accuracy_trained = accuracy(svm_trained, X, Y)\n",
    "print(f\"The accuracy of a kernel with trained parameters is {accuracy_trained:.3f}\")"
   ]
  },
  {
   "cell_type": "code",
   "execution_count": 45,
   "metadata": {},
   "outputs": [
    {
     "name": "stderr",
     "output_type": "stream",
     "text": [
      "/Users/digvijay/Developer/MasterThesis/master-thesis-quantumkernelclassification/.venv/lib/python3.12/site-packages/sklearn/metrics/_classification.py:1509: UndefinedMetricWarning: Precision is ill-defined and being set to 0.0 in labels with no predicted samples. Use `zero_division` parameter to control this behavior.\n",
      "  _warn_prf(average, modifier, f\"{metric.capitalize()} is\", len(result))\n",
      "/Users/digvijay/Developer/MasterThesis/master-thesis-quantumkernelclassification/.venv/lib/python3.12/site-packages/sklearn/metrics/_classification.py:1509: UndefinedMetricWarning: Precision is ill-defined and being set to 0.0 in labels with no predicted samples. Use `zero_division` parameter to control this behavior.\n",
      "  _warn_prf(average, modifier, f\"{metric.capitalize()} is\", len(result))\n",
      "/Users/digvijay/Developer/MasterThesis/master-thesis-quantumkernelclassification/.venv/lib/python3.12/site-packages/sklearn/metrics/_classification.py:1509: UndefinedMetricWarning: Precision is ill-defined and being set to 0.0 in labels with no predicted samples. Use `zero_division` parameter to control this behavior.\n",
      "  _warn_prf(average, modifier, f\"{metric.capitalize()} is\", len(result))\n"
     ]
    }
   ],
   "source": [
    "from sklearn.metrics import accuracy_score, classification_report\n",
    "\n",
    "y_pred = svm_trained.predict(X_test)\n",
    "#accuracy = accuracy_score(Y_test, y_pred)\n",
    "report = classification_report(Y_test, y_pred)"
   ]
  },
  {
   "cell_type": "code",
   "execution_count": 48,
   "metadata": {},
   "outputs": [
    {
     "data": {
      "text/plain": [
       "0.875"
      ]
     },
     "execution_count": 48,
     "metadata": {},
     "output_type": "execute_result"
    }
   ],
   "source": [
    "accuracy"
   ]
  },
  {
   "cell_type": "code",
   "execution_count": null,
   "metadata": {},
   "outputs": [],
   "source": [
    "def accuracy(classifier, X, Y_target):\n",
    "    return 1 - np.count_nonzero(classifier.predict(X) - Y_target) / len(Y_target)"
   ]
  },
  {
   "cell_type": "code",
   "execution_count": 52,
   "metadata": {},
   "outputs": [
    {
     "name": "stdout",
     "output_type": "stream",
     "text": [
      "Kernel Alignment with Gradient Descent\n",
      "Step 10 - Alignment = 0.635\n",
      "Step 20 - Alignment = 0.649\n",
      "Step 30 - Alignment = 0.667\n",
      "Step 40 - Alignment = 0.672\n",
      "Step 50 - Alignment = 0.687\n",
      "The accuracy of a kernel with trained parameters is 0.774\n"
     ]
    }
   ],
   "source": [
    "print(\"Kernel Alignment with Gradient Descent\")\n",
    "params = init_params\n",
    "opt = qml.GradientDescentOptimizer(0.2)\n",
    "\n",
    "for i in range(50):\n",
    "    subset = np.random.choice(list(range(len(X))), 4)\n",
    "    # Define the cost function for optimization\n",
    "    cost = lambda _params: -target_alignment(\n",
    "        X[subset],\n",
    "        Y[subset],\n",
    "        lambda x1, x2: kernel(x1, x2, _params),\n",
    "        assume_normalized_kernel=True,\n",
    "    )\n",
    "    \n",
    "    # Optimization step\n",
    "    params = opt.step(cost, params)\n",
    "\n",
    "    # Report the alignment on the full dataset every 50 steps.\n",
    "    if (i + 1) % 10 == 0:\n",
    "        current_alignment = target_alignment(\n",
    "                                                X,\n",
    "                                                Y,\n",
    "                                                lambda x1, x2: kernel(x1, x2, params),\n",
    "                                                assume_normalized_kernel=True,\n",
    "                                            )\n",
    "        print(f\"Step {i+1} - Alignment = {current_alignment:.3f}\")\n",
    "\n",
    "trained_kernel = lambda x1, x2: kernel(x1, x2, params)\n",
    "trained_kernel_matrix = lambda X1, X2: qml.kernels.kernel_matrix(X1, X2, trained_kernel)\n",
    "svm_aligned = SVC(kernel=trained_kernel_matrix).fit(X, Y)\n",
    "\n",
    "accuracy_trained = accuracy(svm_aligned, X, Y)\n",
    "print(f\"The accuracy of a kernel with trained parameters is {accuracy_trained:.3f}\")"
   ]
  },
  {
   "cell_type": "code",
   "execution_count": 53,
   "metadata": {},
   "outputs": [
    {
     "name": "stdout",
     "output_type": "stream",
     "text": [
      "0.7916666666666666\n",
      "              precision    recall  f1-score   support\n",
      "\n",
      "           1       0.75      0.75      0.75         4\n",
      "           2       0.60      0.75      0.67         4\n",
      "           3       1.00      1.00      1.00         2\n",
      "           4       0.00      0.00      0.00         1\n",
      "           5       0.60      1.00      0.75         3\n",
      "           6       1.00      0.80      0.89        10\n",
      "\n",
      "    accuracy                           0.79        24\n",
      "   macro avg       0.66      0.72      0.68        24\n",
      "weighted avg       0.80      0.79      0.78        24\n",
      "\n"
     ]
    },
    {
     "name": "stderr",
     "output_type": "stream",
     "text": [
      "/Users/digvijay/Developer/MasterThesis/master-thesis-quantumkernelclassification/.venv/lib/python3.12/site-packages/sklearn/metrics/_classification.py:1509: UndefinedMetricWarning: Precision is ill-defined and being set to 0.0 in labels with no predicted samples. Use `zero_division` parameter to control this behavior.\n",
      "  _warn_prf(average, modifier, f\"{metric.capitalize()} is\", len(result))\n",
      "/Users/digvijay/Developer/MasterThesis/master-thesis-quantumkernelclassification/.venv/lib/python3.12/site-packages/sklearn/metrics/_classification.py:1509: UndefinedMetricWarning: Precision is ill-defined and being set to 0.0 in labels with no predicted samples. Use `zero_division` parameter to control this behavior.\n",
      "  _warn_prf(average, modifier, f\"{metric.capitalize()} is\", len(result))\n",
      "/Users/digvijay/Developer/MasterThesis/master-thesis-quantumkernelclassification/.venv/lib/python3.12/site-packages/sklearn/metrics/_classification.py:1509: UndefinedMetricWarning: Precision is ill-defined and being set to 0.0 in labels with no predicted samples. Use `zero_division` parameter to control this behavior.\n",
      "  _warn_prf(average, modifier, f\"{metric.capitalize()} is\", len(result))\n"
     ]
    }
   ],
   "source": [
    "from sklearn.metrics import accuracy_score, classification_report\n",
    "\n",
    "y_pred = svm_aligned.predict(X_test)\n",
    "accuracy = accuracy_score(Y_test, y_pred)\n",
    "report = classification_report(Y_test, y_pred)\n",
    "print(accuracy)\n",
    "print(report)"
   ]
  },
  {
   "cell_type": "code",
   "execution_count": 64,
   "metadata": {},
   "outputs": [],
   "source": [
    "def uncertinitySamplingSubset(X, svm_trained, subSize, sampling = 'entropy', ranking = False):\n",
    "\t\n",
    "\tif sampling == 'entropy':\n",
    "\t\tif ranking:\n",
    "\t\t\tprobabilities = svm_trained.predict_proba(X)\n",
    "\t\t\tentropy = -np.sum(probabilities * np.log(probabilities), axis=1)\n",
    "\t\t\n",
    "\t\t\tsorted_indices = np.argsort(entropy)\n",
    "\t\t\tsorted_entropy_values = np.sort(entropy)\n",
    "\n",
    "\t\t\tprobabilities = np.linspace(1, 0, len(entropy))\n",
    "\t\t\tprobabilities = probabilities / probabilities.sum()\n",
    "\n",
    "\t\t\tsampled_indices = np.random.choice(sorted_indices, size=subSize, p=probabilities)\n",
    "\n",
    "\t\t\treturn sampled_indices\n",
    "\t\t\n",
    "\t\telse:\n",
    "\t\t\tprobabilities = svm_trained.predict_proba(X)\n",
    "\t\t\tentropy = -np.sum(probabilities * np.log(probabilities), axis=1)\n",
    "\t\t\tselected_indices = np.argsort(entropy)[:subSize]\n",
    "\n",
    "\t\t\treturn selected_indices\n",
    "\t\n",
    "\treturn None\n",
    "\n",
    "def accuracy(classifier, X, Y_target):\n",
    "    return 1 - np.count_nonzero(classifier.predict(X) - Y_target) / len(Y_target)"
   ]
  },
  {
   "cell_type": "code",
   "execution_count": 65,
   "metadata": {},
   "outputs": [
    {
     "name": "stdout",
     "output_type": "stream",
     "text": [
      "Kernel Alignment with Gradient Descent with Active Learning\n"
     ]
    },
    {
     "ename": "KeyboardInterrupt",
     "evalue": "",
     "output_type": "error",
     "traceback": [
      "\u001b[0;31m---------------------------------------------------------------------------\u001b[0m",
      "\u001b[0;31mKeyboardInterrupt\u001b[0m                         Traceback (most recent call last)",
      "Cell \u001b[0;32mIn[65], line 21\u001b[0m\n\u001b[1;32m     19\u001b[0m trained_kernel \u001b[38;5;241m=\u001b[39m \u001b[38;5;28;01mlambda\u001b[39;00m x1, x2: kernel(x1, x2, params)\n\u001b[1;32m     20\u001b[0m trained_kernel_matrix \u001b[38;5;241m=\u001b[39m \u001b[38;5;28;01mlambda\u001b[39;00m X1, X2: qml\u001b[38;5;241m.\u001b[39mkernels\u001b[38;5;241m.\u001b[39mkernel_matrix(X1, X2, trained_kernel)\n\u001b[0;32m---> 21\u001b[0m svm_trained \u001b[38;5;241m=\u001b[39m \u001b[43mSVC\u001b[49m\u001b[43m(\u001b[49m\u001b[43mkernel\u001b[49m\u001b[38;5;241;43m=\u001b[39;49m\u001b[43mtrained_kernel_matrix\u001b[49m\u001b[43m,\u001b[49m\u001b[43m \u001b[49m\u001b[43mprobability\u001b[49m\u001b[38;5;241;43m=\u001b[39;49m\u001b[38;5;28;43;01mTrue\u001b[39;49;00m\u001b[43m)\u001b[49m\u001b[38;5;241;43m.\u001b[39;49m\u001b[43mfit\u001b[49m\u001b[43m(\u001b[49m\u001b[43mX\u001b[49m\u001b[43m,\u001b[49m\u001b[43m \u001b[49m\u001b[43mY\u001b[49m\u001b[43m)\u001b[49m\n\u001b[1;32m     23\u001b[0m subset \u001b[38;5;241m=\u001b[39m uncertinitySamplingSubset(X, svm_trained\u001b[38;5;241m=\u001b[39msvm_trained, subSize\u001b[38;5;241m=\u001b[39m\u001b[38;5;241m4\u001b[39m)\n\u001b[1;32m     25\u001b[0m \u001b[38;5;66;03m#print(type(subset))\u001b[39;00m\n\u001b[1;32m     26\u001b[0m \u001b[38;5;66;03m#print(type(Y))\u001b[39;00m\n\u001b[1;32m     27\u001b[0m \n\u001b[1;32m     28\u001b[0m \u001b[38;5;66;03m# Define the cost function for optimization\u001b[39;00m\n",
      "File \u001b[0;32m~/Developer/MasterThesis/master-thesis-quantumkernelclassification/.venv/lib/python3.12/site-packages/sklearn/base.py:1474\u001b[0m, in \u001b[0;36m_fit_context.<locals>.decorator.<locals>.wrapper\u001b[0;34m(estimator, *args, **kwargs)\u001b[0m\n\u001b[1;32m   1467\u001b[0m     estimator\u001b[38;5;241m.\u001b[39m_validate_params()\n\u001b[1;32m   1469\u001b[0m \u001b[38;5;28;01mwith\u001b[39;00m config_context(\n\u001b[1;32m   1470\u001b[0m     skip_parameter_validation\u001b[38;5;241m=\u001b[39m(\n\u001b[1;32m   1471\u001b[0m         prefer_skip_nested_validation \u001b[38;5;129;01mor\u001b[39;00m global_skip_validation\n\u001b[1;32m   1472\u001b[0m     )\n\u001b[1;32m   1473\u001b[0m ):\n\u001b[0;32m-> 1474\u001b[0m     \u001b[38;5;28;01mreturn\u001b[39;00m \u001b[43mfit_method\u001b[49m\u001b[43m(\u001b[49m\u001b[43mestimator\u001b[49m\u001b[43m,\u001b[49m\u001b[43m \u001b[49m\u001b[38;5;241;43m*\u001b[39;49m\u001b[43margs\u001b[49m\u001b[43m,\u001b[49m\u001b[43m \u001b[49m\u001b[38;5;241;43m*\u001b[39;49m\u001b[38;5;241;43m*\u001b[39;49m\u001b[43mkwargs\u001b[49m\u001b[43m)\u001b[49m\n",
      "File \u001b[0;32m~/Developer/MasterThesis/master-thesis-quantumkernelclassification/.venv/lib/python3.12/site-packages/sklearn/svm/_base.py:250\u001b[0m, in \u001b[0;36mBaseLibSVM.fit\u001b[0;34m(self, X, y, sample_weight)\u001b[0m\n\u001b[1;32m    247\u001b[0m     \u001b[38;5;28mprint\u001b[39m(\u001b[38;5;124m\"\u001b[39m\u001b[38;5;124m[LibSVM]\u001b[39m\u001b[38;5;124m\"\u001b[39m, end\u001b[38;5;241m=\u001b[39m\u001b[38;5;124m\"\u001b[39m\u001b[38;5;124m\"\u001b[39m)\n\u001b[1;32m    249\u001b[0m seed \u001b[38;5;241m=\u001b[39m rnd\u001b[38;5;241m.\u001b[39mrandint(np\u001b[38;5;241m.\u001b[39miinfo(\u001b[38;5;124m\"\u001b[39m\u001b[38;5;124mi\u001b[39m\u001b[38;5;124m\"\u001b[39m)\u001b[38;5;241m.\u001b[39mmax)\n\u001b[0;32m--> 250\u001b[0m \u001b[43mfit\u001b[49m\u001b[43m(\u001b[49m\u001b[43mX\u001b[49m\u001b[43m,\u001b[49m\u001b[43m \u001b[49m\u001b[43my\u001b[49m\u001b[43m,\u001b[49m\u001b[43m \u001b[49m\u001b[43msample_weight\u001b[49m\u001b[43m,\u001b[49m\u001b[43m \u001b[49m\u001b[43msolver_type\u001b[49m\u001b[43m,\u001b[49m\u001b[43m \u001b[49m\u001b[43mkernel\u001b[49m\u001b[43m,\u001b[49m\u001b[43m \u001b[49m\u001b[43mrandom_seed\u001b[49m\u001b[38;5;241;43m=\u001b[39;49m\u001b[43mseed\u001b[49m\u001b[43m)\u001b[49m\n\u001b[1;32m    251\u001b[0m \u001b[38;5;66;03m# see comment on the other call to np.iinfo in this file\u001b[39;00m\n\u001b[1;32m    253\u001b[0m \u001b[38;5;28mself\u001b[39m\u001b[38;5;241m.\u001b[39mshape_fit_ \u001b[38;5;241m=\u001b[39m X\u001b[38;5;241m.\u001b[39mshape \u001b[38;5;28;01mif\u001b[39;00m \u001b[38;5;28mhasattr\u001b[39m(X, \u001b[38;5;124m\"\u001b[39m\u001b[38;5;124mshape\u001b[39m\u001b[38;5;124m\"\u001b[39m) \u001b[38;5;28;01melse\u001b[39;00m (n_samples,)\n",
      "File \u001b[0;32m~/Developer/MasterThesis/master-thesis-quantumkernelclassification/.venv/lib/python3.12/site-packages/sklearn/svm/_base.py:310\u001b[0m, in \u001b[0;36mBaseLibSVM._dense_fit\u001b[0;34m(self, X, y, sample_weight, solver_type, kernel, random_seed)\u001b[0m\n\u001b[1;32m    306\u001b[0m \u001b[38;5;28;01mif\u001b[39;00m \u001b[38;5;28mcallable\u001b[39m(\u001b[38;5;28mself\u001b[39m\u001b[38;5;241m.\u001b[39mkernel):\n\u001b[1;32m    307\u001b[0m     \u001b[38;5;66;03m# you must store a reference to X to compute the kernel in predict\u001b[39;00m\n\u001b[1;32m    308\u001b[0m     \u001b[38;5;66;03m# TODO: add keyword copy to copy on demand\u001b[39;00m\n\u001b[1;32m    309\u001b[0m     \u001b[38;5;28mself\u001b[39m\u001b[38;5;241m.\u001b[39m__Xfit \u001b[38;5;241m=\u001b[39m X\n\u001b[0;32m--> 310\u001b[0m     X \u001b[38;5;241m=\u001b[39m \u001b[38;5;28;43mself\u001b[39;49m\u001b[38;5;241;43m.\u001b[39;49m\u001b[43m_compute_kernel\u001b[49m\u001b[43m(\u001b[49m\u001b[43mX\u001b[49m\u001b[43m)\u001b[49m\n\u001b[1;32m    312\u001b[0m     \u001b[38;5;28;01mif\u001b[39;00m X\u001b[38;5;241m.\u001b[39mshape[\u001b[38;5;241m0\u001b[39m] \u001b[38;5;241m!=\u001b[39m X\u001b[38;5;241m.\u001b[39mshape[\u001b[38;5;241m1\u001b[39m]:\n\u001b[1;32m    313\u001b[0m         \u001b[38;5;28;01mraise\u001b[39;00m \u001b[38;5;167;01mValueError\u001b[39;00m(\u001b[38;5;124m\"\u001b[39m\u001b[38;5;124mX.shape[0] should be equal to X.shape[1]\u001b[39m\u001b[38;5;124m\"\u001b[39m)\n",
      "File \u001b[0;32m~/Developer/MasterThesis/master-thesis-quantumkernelclassification/.venv/lib/python3.12/site-packages/sklearn/svm/_base.py:508\u001b[0m, in \u001b[0;36mBaseLibSVM._compute_kernel\u001b[0;34m(self, X)\u001b[0m\n\u001b[1;32m    504\u001b[0m \u001b[38;5;250m\u001b[39m\u001b[38;5;124;03m\"\"\"Return the data transformed by a callable kernel\"\"\"\u001b[39;00m\n\u001b[1;32m    505\u001b[0m \u001b[38;5;28;01mif\u001b[39;00m \u001b[38;5;28mcallable\u001b[39m(\u001b[38;5;28mself\u001b[39m\u001b[38;5;241m.\u001b[39mkernel):\n\u001b[1;32m    506\u001b[0m     \u001b[38;5;66;03m# in the case of precomputed kernel given as a function, we\u001b[39;00m\n\u001b[1;32m    507\u001b[0m     \u001b[38;5;66;03m# have to compute explicitly the kernel matrix\u001b[39;00m\n\u001b[0;32m--> 508\u001b[0m     kernel \u001b[38;5;241m=\u001b[39m \u001b[38;5;28;43mself\u001b[39;49m\u001b[38;5;241;43m.\u001b[39;49m\u001b[43mkernel\u001b[49m\u001b[43m(\u001b[49m\u001b[43mX\u001b[49m\u001b[43m,\u001b[49m\u001b[43m \u001b[49m\u001b[38;5;28;43mself\u001b[39;49m\u001b[38;5;241;43m.\u001b[39;49m\u001b[43m__Xfit\u001b[49m\u001b[43m)\u001b[49m\n\u001b[1;32m    509\u001b[0m     \u001b[38;5;28;01mif\u001b[39;00m sp\u001b[38;5;241m.\u001b[39missparse(kernel):\n\u001b[1;32m    510\u001b[0m         kernel \u001b[38;5;241m=\u001b[39m kernel\u001b[38;5;241m.\u001b[39mtoarray()\n",
      "Cell \u001b[0;32mIn[65], line 20\u001b[0m, in \u001b[0;36m<lambda>\u001b[0;34m(X1, X2)\u001b[0m\n\u001b[1;32m     15\u001b[0m \u001b[38;5;28;01mfor\u001b[39;00m i \u001b[38;5;129;01min\u001b[39;00m \u001b[38;5;28mrange\u001b[39m(\u001b[38;5;241m50\u001b[39m):\n\u001b[1;32m     16\u001b[0m     \u001b[38;5;66;03m# Choose subset of datapoints to compute the KTA on.\u001b[39;00m\n\u001b[1;32m     17\u001b[0m     \n\u001b[1;32m     18\u001b[0m     \u001b[38;5;66;03m#subset = np.random.choice(list(range(len(X))), 4) \u001b[39;00m\n\u001b[1;32m     19\u001b[0m     trained_kernel \u001b[38;5;241m=\u001b[39m \u001b[38;5;28;01mlambda\u001b[39;00m x1, x2: kernel(x1, x2, params)\n\u001b[0;32m---> 20\u001b[0m     trained_kernel_matrix \u001b[38;5;241m=\u001b[39m \u001b[38;5;28;01mlambda\u001b[39;00m X1, X2: \u001b[43mqml\u001b[49m\u001b[38;5;241;43m.\u001b[39;49m\u001b[43mkernels\u001b[49m\u001b[38;5;241;43m.\u001b[39;49m\u001b[43mkernel_matrix\u001b[49m\u001b[43m(\u001b[49m\u001b[43mX1\u001b[49m\u001b[43m,\u001b[49m\u001b[43m \u001b[49m\u001b[43mX2\u001b[49m\u001b[43m,\u001b[49m\u001b[43m \u001b[49m\u001b[43mtrained_kernel\u001b[49m\u001b[43m)\u001b[49m\n\u001b[1;32m     21\u001b[0m     svm_trained \u001b[38;5;241m=\u001b[39m SVC(kernel\u001b[38;5;241m=\u001b[39mtrained_kernel_matrix, probability\u001b[38;5;241m=\u001b[39m\u001b[38;5;28;01mTrue\u001b[39;00m)\u001b[38;5;241m.\u001b[39mfit(X, Y)\n\u001b[1;32m     23\u001b[0m     subset \u001b[38;5;241m=\u001b[39m uncertinitySamplingSubset(X, svm_trained\u001b[38;5;241m=\u001b[39msvm_trained, subSize\u001b[38;5;241m=\u001b[39m\u001b[38;5;241m4\u001b[39m)\n",
      "File \u001b[0;32m~/Developer/MasterThesis/master-thesis-quantumkernelclassification/.venv/lib/python3.12/site-packages/pennylane/kernels/utils.py:132\u001b[0m, in \u001b[0;36mkernel_matrix\u001b[0;34m(X1, X2, kernel)\u001b[0m\n\u001b[1;32m    129\u001b[0m N \u001b[38;5;241m=\u001b[39m qml\u001b[38;5;241m.\u001b[39mmath\u001b[38;5;241m.\u001b[39mshape(X1)[\u001b[38;5;241m0\u001b[39m]\n\u001b[1;32m    130\u001b[0m M \u001b[38;5;241m=\u001b[39m qml\u001b[38;5;241m.\u001b[39mmath\u001b[38;5;241m.\u001b[39mshape(X2)[\u001b[38;5;241m0\u001b[39m]\n\u001b[0;32m--> 132\u001b[0m matrix \u001b[38;5;241m=\u001b[39m qml\u001b[38;5;241m.\u001b[39mmath\u001b[38;5;241m.\u001b[39mstack([\u001b[43mkernel\u001b[49m\u001b[43m(\u001b[49m\u001b[43mx\u001b[49m\u001b[43m,\u001b[49m\u001b[43m \u001b[49m\u001b[43my\u001b[49m\u001b[43m)\u001b[49m \u001b[38;5;28;01mfor\u001b[39;00m x, y \u001b[38;5;129;01min\u001b[39;00m product(X1, X2)])\n\u001b[1;32m    134\u001b[0m \u001b[38;5;28;01mif\u001b[39;00m qml\u001b[38;5;241m.\u001b[39mmath\u001b[38;5;241m.\u001b[39mndim(matrix[\u001b[38;5;241m0\u001b[39m]) \u001b[38;5;241m==\u001b[39m \u001b[38;5;241m0\u001b[39m:\n\u001b[1;32m    135\u001b[0m     \u001b[38;5;28;01mreturn\u001b[39;00m qml\u001b[38;5;241m.\u001b[39mmath\u001b[38;5;241m.\u001b[39mreshape(matrix, (N, M))\n",
      "Cell \u001b[0;32mIn[65], line 19\u001b[0m, in \u001b[0;36m<lambda>\u001b[0;34m(x1, x2)\u001b[0m\n\u001b[1;32m     13\u001b[0m opt \u001b[38;5;241m=\u001b[39m qml\u001b[38;5;241m.\u001b[39mGradientDescentOptimizer(\u001b[38;5;241m0.2\u001b[39m)\n\u001b[1;32m     15\u001b[0m \u001b[38;5;28;01mfor\u001b[39;00m i \u001b[38;5;129;01min\u001b[39;00m \u001b[38;5;28mrange\u001b[39m(\u001b[38;5;241m50\u001b[39m):\n\u001b[1;32m     16\u001b[0m     \u001b[38;5;66;03m# Choose subset of datapoints to compute the KTA on.\u001b[39;00m\n\u001b[1;32m     17\u001b[0m     \n\u001b[1;32m     18\u001b[0m     \u001b[38;5;66;03m#subset = np.random.choice(list(range(len(X))), 4) \u001b[39;00m\n\u001b[0;32m---> 19\u001b[0m     trained_kernel \u001b[38;5;241m=\u001b[39m \u001b[38;5;28;01mlambda\u001b[39;00m x1, x2: \u001b[43mkernel\u001b[49m\u001b[43m(\u001b[49m\u001b[43mx1\u001b[49m\u001b[43m,\u001b[49m\u001b[43m \u001b[49m\u001b[43mx2\u001b[49m\u001b[43m,\u001b[49m\u001b[43m \u001b[49m\u001b[43mparams\u001b[49m\u001b[43m)\u001b[49m\n\u001b[1;32m     20\u001b[0m     trained_kernel_matrix \u001b[38;5;241m=\u001b[39m \u001b[38;5;28;01mlambda\u001b[39;00m X1, X2: qml\u001b[38;5;241m.\u001b[39mkernels\u001b[38;5;241m.\u001b[39mkernel_matrix(X1, X2, trained_kernel)\n\u001b[1;32m     21\u001b[0m     svm_trained \u001b[38;5;241m=\u001b[39m SVC(kernel\u001b[38;5;241m=\u001b[39mtrained_kernel_matrix, probability\u001b[38;5;241m=\u001b[39m\u001b[38;5;28;01mTrue\u001b[39;00m)\u001b[38;5;241m.\u001b[39mfit(X, Y)\n",
      "Cell \u001b[0;32mIn[63], line 37\u001b[0m, in \u001b[0;36mkernel\u001b[0;34m(x1, x2, params)\u001b[0m\n\u001b[1;32m     36\u001b[0m \u001b[38;5;28;01mdef\u001b[39;00m \u001b[38;5;21mkernel\u001b[39m(x1, x2, params):\n\u001b[0;32m---> 37\u001b[0m     \u001b[38;5;28;01mreturn\u001b[39;00m \u001b[43mkernel_circuit\u001b[49m\u001b[43m(\u001b[49m\u001b[43mx1\u001b[49m\u001b[43m,\u001b[49m\u001b[43m \u001b[49m\u001b[43mx2\u001b[49m\u001b[43m,\u001b[49m\u001b[43m \u001b[49m\u001b[43mparams\u001b[49m\u001b[43m)\u001b[49m[\u001b[38;5;241m0\u001b[39m]\n",
      "File \u001b[0;32m~/Developer/MasterThesis/master-thesis-quantumkernelclassification/.venv/lib/python3.12/site-packages/pennylane/workflow/qnode.py:1002\u001b[0m, in \u001b[0;36mQNode.__call__\u001b[0;34m(self, *args, **kwargs)\u001b[0m\n\u001b[1;32m    999\u001b[0m         kwargs[\u001b[38;5;124m\"\u001b[39m\u001b[38;5;124mshots\u001b[39m\u001b[38;5;124m\"\u001b[39m] \u001b[38;5;241m=\u001b[39m _get_device_shots(\u001b[38;5;28mself\u001b[39m\u001b[38;5;241m.\u001b[39m_original_device)\n\u001b[1;32m   1001\u001b[0m \u001b[38;5;66;03m# construct the tape\u001b[39;00m\n\u001b[0;32m-> 1002\u001b[0m \u001b[38;5;28;43mself\u001b[39;49m\u001b[38;5;241;43m.\u001b[39;49m\u001b[43mconstruct\u001b[49m\u001b[43m(\u001b[49m\u001b[43margs\u001b[49m\u001b[43m,\u001b[49m\u001b[43m \u001b[49m\u001b[43mkwargs\u001b[49m\u001b[43m)\u001b[49m\n\u001b[1;32m   1004\u001b[0m cache \u001b[38;5;241m=\u001b[39m \u001b[38;5;28mself\u001b[39m\u001b[38;5;241m.\u001b[39mexecute_kwargs\u001b[38;5;241m.\u001b[39mget(\u001b[38;5;124m\"\u001b[39m\u001b[38;5;124mcache\u001b[39m\u001b[38;5;124m\"\u001b[39m, \u001b[38;5;28;01mFalse\u001b[39;00m)\n\u001b[1;32m   1005\u001b[0m using_custom_cache \u001b[38;5;241m=\u001b[39m (\n\u001b[1;32m   1006\u001b[0m     \u001b[38;5;28mhasattr\u001b[39m(cache, \u001b[38;5;124m\"\u001b[39m\u001b[38;5;124m__getitem__\u001b[39m\u001b[38;5;124m\"\u001b[39m)\n\u001b[1;32m   1007\u001b[0m     \u001b[38;5;129;01mand\u001b[39;00m \u001b[38;5;28mhasattr\u001b[39m(cache, \u001b[38;5;124m\"\u001b[39m\u001b[38;5;124m__setitem__\u001b[39m\u001b[38;5;124m\"\u001b[39m)\n\u001b[1;32m   1008\u001b[0m     \u001b[38;5;129;01mand\u001b[39;00m \u001b[38;5;28mhasattr\u001b[39m(cache, \u001b[38;5;124m\"\u001b[39m\u001b[38;5;124m__delitem__\u001b[39m\u001b[38;5;124m\"\u001b[39m)\n\u001b[1;32m   1009\u001b[0m )\n",
      "File \u001b[0;32m~/Developer/MasterThesis/master-thesis-quantumkernelclassification/.venv/lib/python3.12/site-packages/pennylane/workflow/qnode.py:888\u001b[0m, in \u001b[0;36mQNode.construct\u001b[0;34m(self, args, kwargs)\u001b[0m\n\u001b[1;32m    885\u001b[0m     \u001b[38;5;28mself\u001b[39m\u001b[38;5;241m.\u001b[39minterface \u001b[38;5;241m=\u001b[39m qml\u001b[38;5;241m.\u001b[39mmath\u001b[38;5;241m.\u001b[39mget_interface(\u001b[38;5;241m*\u001b[39margs, \u001b[38;5;241m*\u001b[39m\u001b[38;5;28mlist\u001b[39m(kwargs\u001b[38;5;241m.\u001b[39mvalues()))\n\u001b[1;32m    887\u001b[0m \u001b[38;5;28;01mwith\u001b[39;00m qml\u001b[38;5;241m.\u001b[39mqueuing\u001b[38;5;241m.\u001b[39mAnnotatedQueue() \u001b[38;5;28;01mas\u001b[39;00m q:\n\u001b[0;32m--> 888\u001b[0m     \u001b[38;5;28mself\u001b[39m\u001b[38;5;241m.\u001b[39m_qfunc_output \u001b[38;5;241m=\u001b[39m \u001b[38;5;28;43mself\u001b[39;49m\u001b[38;5;241;43m.\u001b[39;49m\u001b[43mfunc\u001b[49m\u001b[43m(\u001b[49m\u001b[38;5;241;43m*\u001b[39;49m\u001b[43margs\u001b[49m\u001b[43m,\u001b[49m\u001b[43m \u001b[49m\u001b[38;5;241;43m*\u001b[39;49m\u001b[38;5;241;43m*\u001b[39;49m\u001b[43mkwargs\u001b[49m\u001b[43m)\u001b[49m\n\u001b[1;32m    890\u001b[0m \u001b[38;5;28mself\u001b[39m\u001b[38;5;241m.\u001b[39m_tape \u001b[38;5;241m=\u001b[39m QuantumScript\u001b[38;5;241m.\u001b[39mfrom_queue(q, shots)\n\u001b[1;32m    892\u001b[0m params \u001b[38;5;241m=\u001b[39m \u001b[38;5;28mself\u001b[39m\u001b[38;5;241m.\u001b[39mtape\u001b[38;5;241m.\u001b[39mget_parameters(trainable_only\u001b[38;5;241m=\u001b[39m\u001b[38;5;28;01mFalse\u001b[39;00m)\n",
      "Cell \u001b[0;32mIn[63], line 32\u001b[0m, in \u001b[0;36mkernel_circuit\u001b[0;34m(x1, x2, params)\u001b[0m\n\u001b[1;32m     30\u001b[0m \u001b[38;5;129m@qml\u001b[39m\u001b[38;5;241m.\u001b[39mqnode(dev)\n\u001b[1;32m     31\u001b[0m \u001b[38;5;28;01mdef\u001b[39;00m \u001b[38;5;21mkernel_circuit\u001b[39m(x1, x2, params):\n\u001b[0;32m---> 32\u001b[0m     \u001b[43mansatz\u001b[49m\u001b[43m(\u001b[49m\u001b[43mx1\u001b[49m\u001b[43m,\u001b[49m\u001b[43m \u001b[49m\u001b[43mparams\u001b[49m\u001b[43m,\u001b[49m\u001b[43m \u001b[49m\u001b[43mwires\u001b[49m\u001b[38;5;241;43m=\u001b[39;49m\u001b[43mwires\u001b[49m\u001b[43m)\u001b[49m\n\u001b[1;32m     33\u001b[0m     adjoint_ansatz(x2, params, wires\u001b[38;5;241m=\u001b[39mwires)\n\u001b[1;32m     34\u001b[0m     \u001b[38;5;28;01mreturn\u001b[39;00m qml\u001b[38;5;241m.\u001b[39mprobs(wires\u001b[38;5;241m=\u001b[39mwires)\n",
      "Cell \u001b[0;32mIn[63], line 20\u001b[0m, in \u001b[0;36mansatz\u001b[0;34m(x, params, wires)\u001b[0m\n\u001b[1;32m     18\u001b[0m \u001b[38;5;250m\u001b[39m\u001b[38;5;124;03m\"\"\"The embedding ansatz\"\"\"\u001b[39;00m\n\u001b[1;32m     19\u001b[0m \u001b[38;5;28;01mfor\u001b[39;00m j, layer_params \u001b[38;5;129;01min\u001b[39;00m \u001b[38;5;28menumerate\u001b[39m(params):\n\u001b[0;32m---> 20\u001b[0m     \u001b[43mlayer\u001b[49m\u001b[43m(\u001b[49m\u001b[43mx\u001b[49m\u001b[43m,\u001b[49m\u001b[43m \u001b[49m\u001b[43mlayer_params\u001b[49m\u001b[43m,\u001b[49m\u001b[43m \u001b[49m\u001b[43mwires\u001b[49m\u001b[43m,\u001b[49m\u001b[43m \u001b[49m\u001b[43mi0\u001b[49m\u001b[38;5;241;43m=\u001b[39;49m\u001b[43mj\u001b[49m\u001b[43m \u001b[49m\u001b[38;5;241;43m*\u001b[39;49m\u001b[43m \u001b[49m\u001b[38;5;28;43mlen\u001b[39;49m\u001b[43m(\u001b[49m\u001b[43mwires\u001b[49m\u001b[43m)\u001b[49m\u001b[43m)\u001b[49m\n",
      "Cell \u001b[0;32mIn[63], line 14\u001b[0m, in \u001b[0;36mlayer\u001b[0;34m(x, params, wires, i0, inc)\u001b[0m\n\u001b[1;32m     11\u001b[0m     i \u001b[38;5;241m+\u001b[39m\u001b[38;5;241m=\u001b[39m inc\n\u001b[1;32m     12\u001b[0m     qml\u001b[38;5;241m.\u001b[39mRY(params[\u001b[38;5;241m0\u001b[39m, j], wires\u001b[38;5;241m=\u001b[39m[wire])\n\u001b[0;32m---> 14\u001b[0m \u001b[43mqml\u001b[49m\u001b[38;5;241;43m.\u001b[39;49m\u001b[43mbroadcast\u001b[49m\u001b[43m(\u001b[49m\u001b[43munitary\u001b[49m\u001b[38;5;241;43m=\u001b[39;49m\u001b[43mqml\u001b[49m\u001b[38;5;241;43m.\u001b[39;49m\u001b[43mCRZ\u001b[49m\u001b[43m,\u001b[49m\u001b[43m \u001b[49m\u001b[43mpattern\u001b[49m\u001b[38;5;241;43m=\u001b[39;49m\u001b[38;5;124;43m\"\u001b[39;49m\u001b[38;5;124;43mring\u001b[39;49m\u001b[38;5;124;43m\"\u001b[39;49m\u001b[43m,\u001b[49m\u001b[43m \u001b[49m\u001b[43mwires\u001b[49m\u001b[38;5;241;43m=\u001b[39;49m\u001b[43mwires\u001b[49m\u001b[43m,\u001b[49m\u001b[43m \u001b[49m\u001b[43mparameters\u001b[49m\u001b[38;5;241;43m=\u001b[39;49m\u001b[43mparams\u001b[49m\u001b[43m[\u001b[49m\u001b[38;5;241;43m1\u001b[39;49m\u001b[43m]\u001b[49m\u001b[43m)\u001b[49m\n",
      "File \u001b[0;32m~/Developer/MasterThesis/master-thesis-quantumkernelclassification/.venv/lib/python3.12/site-packages/pennylane/templates/broadcast.py:567\u001b[0m, in \u001b[0;36mbroadcast\u001b[0;34m(unitary, wires, pattern, parameters, kwargs)\u001b[0m\n\u001b[1;32m    565\u001b[0m \u001b[38;5;28;01melse\u001b[39;00m:\n\u001b[1;32m    566\u001b[0m     \u001b[38;5;28;01mfor\u001b[39;00m i \u001b[38;5;129;01min\u001b[39;00m \u001b[38;5;28mrange\u001b[39m(\u001b[38;5;28mlen\u001b[39m(wire_sequence)):\n\u001b[0;32m--> 567\u001b[0m         \u001b[43munitary\u001b[49m\u001b[43m(\u001b[49m\u001b[38;5;241;43m*\u001b[39;49m\u001b[43mparameters\u001b[49m\u001b[43m[\u001b[49m\u001b[43mi\u001b[49m\u001b[43m]\u001b[49m\u001b[43m,\u001b[49m\u001b[43m \u001b[49m\u001b[43mwires\u001b[49m\u001b[38;5;241;43m=\u001b[39;49m\u001b[43mwire_sequence\u001b[49m\u001b[43m[\u001b[49m\u001b[43mi\u001b[49m\u001b[43m]\u001b[49m\u001b[43m,\u001b[49m\u001b[43m \u001b[49m\u001b[38;5;241;43m*\u001b[39;49m\u001b[38;5;241;43m*\u001b[39;49m\u001b[43mkwargs\u001b[49m\u001b[43m)\u001b[49m\n",
      "File \u001b[0;32m~/Developer/MasterThesis/master-thesis-quantumkernelclassification/.venv/lib/python3.12/site-packages/pennylane/ops/op_math/controlled_ops.py:1532\u001b[0m, in \u001b[0;36mCRZ.__init__\u001b[0;34m(self, phi, wires, id)\u001b[0m\n\u001b[1;32m   1531\u001b[0m \u001b[38;5;28;01mdef\u001b[39;00m \u001b[38;5;21m__init__\u001b[39m(\u001b[38;5;28mself\u001b[39m, phi, wires, \u001b[38;5;28mid\u001b[39m\u001b[38;5;241m=\u001b[39m\u001b[38;5;28;01mNone\u001b[39;00m):\n\u001b[0;32m-> 1532\u001b[0m     \u001b[38;5;28;43msuper\u001b[39;49m\u001b[43m(\u001b[49m\u001b[43m)\u001b[49m\u001b[38;5;241;43m.\u001b[39;49m\u001b[38;5;21;43m__init__\u001b[39;49m\u001b[43m(\u001b[49m\u001b[43mqml\u001b[49m\u001b[38;5;241;43m.\u001b[39;49m\u001b[43mRZ\u001b[49m\u001b[43m(\u001b[49m\u001b[43mphi\u001b[49m\u001b[43m,\u001b[49m\u001b[43m \u001b[49m\u001b[43mwires\u001b[49m\u001b[38;5;241;43m=\u001b[39;49m\u001b[43mwires\u001b[49m\u001b[43m[\u001b[49m\u001b[38;5;241;43m1\u001b[39;49m\u001b[43m:\u001b[49m\u001b[43m]\u001b[49m\u001b[43m)\u001b[49m\u001b[43m,\u001b[49m\u001b[43m \u001b[49m\u001b[43mcontrol_wires\u001b[49m\u001b[38;5;241;43m=\u001b[39;49m\u001b[43mwires\u001b[49m\u001b[43m[\u001b[49m\u001b[38;5;241;43m0\u001b[39;49m\u001b[43m]\u001b[49m\u001b[43m,\u001b[49m\u001b[43m \u001b[49m\u001b[38;5;28;43mid\u001b[39;49m\u001b[38;5;241;43m=\u001b[39;49m\u001b[38;5;28;43mid\u001b[39;49m\u001b[43m)\u001b[49m\n",
      "File \u001b[0;32m~/Developer/MasterThesis/master-thesis-quantumkernelclassification/.venv/lib/python3.12/site-packages/pennylane/ops/op_math/controlled.py:826\u001b[0m, in \u001b[0;36mControlledOp.__init__\u001b[0;34m(self, base, control_wires, control_values, work_wires, id)\u001b[0m\n\u001b[1;32m    825\u001b[0m \u001b[38;5;28;01mdef\u001b[39;00m \u001b[38;5;21m__init__\u001b[39m(\u001b[38;5;28mself\u001b[39m, base, control_wires, control_values\u001b[38;5;241m=\u001b[39m\u001b[38;5;28;01mNone\u001b[39;00m, work_wires\u001b[38;5;241m=\u001b[39m\u001b[38;5;28;01mNone\u001b[39;00m, \u001b[38;5;28mid\u001b[39m\u001b[38;5;241m=\u001b[39m\u001b[38;5;28;01mNone\u001b[39;00m):\n\u001b[0;32m--> 826\u001b[0m     \u001b[38;5;28;43msuper\u001b[39;49m\u001b[43m(\u001b[49m\u001b[43m)\u001b[49m\u001b[38;5;241;43m.\u001b[39;49m\u001b[38;5;21;43m__init__\u001b[39;49m\u001b[43m(\u001b[49m\u001b[43mbase\u001b[49m\u001b[43m,\u001b[49m\u001b[43m \u001b[49m\u001b[43mcontrol_wires\u001b[49m\u001b[43m,\u001b[49m\u001b[43m \u001b[49m\u001b[43mcontrol_values\u001b[49m\u001b[43m,\u001b[49m\u001b[43m \u001b[49m\u001b[43mwork_wires\u001b[49m\u001b[43m,\u001b[49m\u001b[43m \u001b[49m\u001b[38;5;28;43mid\u001b[39;49m\u001b[43m)\u001b[49m\n\u001b[1;32m    827\u001b[0m     \u001b[38;5;66;03m# check the grad_recipe validity\u001b[39;00m\n\u001b[1;32m    828\u001b[0m     \u001b[38;5;28;01mif\u001b[39;00m \u001b[38;5;28mself\u001b[39m\u001b[38;5;241m.\u001b[39mgrad_recipe \u001b[38;5;129;01mis\u001b[39;00m \u001b[38;5;28;01mNone\u001b[39;00m:\n\u001b[1;32m    829\u001b[0m         \u001b[38;5;66;03m# Make sure grad_recipe is an iterable of correct length instead of None\u001b[39;00m\n",
      "File \u001b[0;32m~/Developer/MasterThesis/master-thesis-quantumkernelclassification/.venv/lib/python3.12/site-packages/pennylane/ops/op_math/controlled.py:418\u001b[0m, in \u001b[0;36mControlled.__init__\u001b[0;34m(self, base, control_wires, control_values, work_wires, id)\u001b[0m\n\u001b[1;32m    415\u001b[0m \u001b[38;5;28;01mif\u001b[39;00m \u001b[38;5;28mlen\u001b[39m(Wires\u001b[38;5;241m.\u001b[39mshared_wires([base\u001b[38;5;241m.\u001b[39mwires, control_wires])) \u001b[38;5;241m!=\u001b[39m \u001b[38;5;241m0\u001b[39m:\n\u001b[1;32m    416\u001b[0m     \u001b[38;5;28;01mraise\u001b[39;00m \u001b[38;5;167;01mValueError\u001b[39;00m(\u001b[38;5;124m\"\u001b[39m\u001b[38;5;124mThe control wires must be different from the base operation wires.\u001b[39m\u001b[38;5;124m\"\u001b[39m)\n\u001b[0;32m--> 418\u001b[0m \u001b[38;5;28;01mif\u001b[39;00m \u001b[38;5;28mlen\u001b[39m(Wires\u001b[38;5;241m.\u001b[39mshared_wires([work_wires, \u001b[43mbase\u001b[49m\u001b[38;5;241;43m.\u001b[39;49m\u001b[43mwires\u001b[49m\u001b[43m \u001b[49m\u001b[38;5;241;43m+\u001b[39;49m\u001b[43m \u001b[49m\u001b[43mcontrol_wires\u001b[49m])) \u001b[38;5;241m!=\u001b[39m \u001b[38;5;241m0\u001b[39m:\n\u001b[1;32m    419\u001b[0m     \u001b[38;5;28;01mraise\u001b[39;00m \u001b[38;5;167;01mValueError\u001b[39;00m(\n\u001b[1;32m    420\u001b[0m         \u001b[38;5;124m\"\u001b[39m\u001b[38;5;124mWork wires must be different the control_wires and base operation wires.\u001b[39m\u001b[38;5;124m\"\u001b[39m\n\u001b[1;32m    421\u001b[0m     )\n\u001b[1;32m    423\u001b[0m \u001b[38;5;28mself\u001b[39m\u001b[38;5;241m.\u001b[39mhyperparameters[\u001b[38;5;124m\"\u001b[39m\u001b[38;5;124mcontrol_wires\u001b[39m\u001b[38;5;124m\"\u001b[39m] \u001b[38;5;241m=\u001b[39m control_wires\n",
      "File \u001b[0;32m~/Developer/MasterThesis/master-thesis-quantumkernelclassification/.venv/lib/python3.12/site-packages/pennylane/wires.py:178\u001b[0m, in \u001b[0;36mWires.__add__\u001b[0;34m(self, other)\u001b[0m\n\u001b[1;32m    162\u001b[0m \u001b[38;5;250m\u001b[39m\u001b[38;5;124;03m\"\"\"Defines the addition to return a Wires object containing all wires of the two terms.\u001b[39;00m\n\u001b[1;32m    163\u001b[0m \n\u001b[1;32m    164\u001b[0m \u001b[38;5;124;03mArgs:\u001b[39;00m\n\u001b[0;32m   (...)\u001b[0m\n\u001b[1;32m    175\u001b[0m \u001b[38;5;124;03mWires([4, 0, 1, 2])\u001b[39;00m\n\u001b[1;32m    176\u001b[0m \u001b[38;5;124;03m\"\"\"\u001b[39;00m\n\u001b[1;32m    177\u001b[0m other \u001b[38;5;241m=\u001b[39m Wires(other)\n\u001b[0;32m--> 178\u001b[0m \u001b[38;5;28;01mreturn\u001b[39;00m \u001b[43mWires\u001b[49m\u001b[38;5;241;43m.\u001b[39;49m\u001b[43mall_wires\u001b[49m\u001b[43m(\u001b[49m\u001b[43m[\u001b[49m\u001b[38;5;28;43mself\u001b[39;49m\u001b[43m,\u001b[49m\u001b[43m \u001b[49m\u001b[43mother\u001b[49m\u001b[43m]\u001b[49m\u001b[43m)\u001b[49m\n",
      "File \u001b[0;32m~/Developer/MasterThesis/master-thesis-quantumkernelclassification/.venv/lib/python3.12/site-packages/pennylane/wires.py:437\u001b[0m, in \u001b[0;36mWires.all_wires\u001b[0;34m(list_of_wires, sort)\u001b[0m\n\u001b[1;32m    413\u001b[0m \u001b[38;5;250m\u001b[39m\u001b[38;5;124;03m\"\"\"Return the wires that appear in any of the Wires objects in the list.\u001b[39;00m\n\u001b[1;32m    414\u001b[0m \n\u001b[1;32m    415\u001b[0m \u001b[38;5;124;03mThis is similar to a set combine method, but keeps the order of wires as they appear in the list.\u001b[39;00m\n\u001b[0;32m   (...)\u001b[0m\n\u001b[1;32m    432\u001b[0m \u001b[38;5;124;03m<Wires = [4, 0, 1, 3, 5]>\u001b[39;00m\n\u001b[1;32m    433\u001b[0m \u001b[38;5;124;03m\"\"\"\u001b[39;00m\n\u001b[1;32m    434\u001b[0m converted_wires \u001b[38;5;241m=\u001b[39m (\n\u001b[1;32m    435\u001b[0m     wires \u001b[38;5;28;01mif\u001b[39;00m \u001b[38;5;28misinstance\u001b[39m(wires, Wires) \u001b[38;5;28;01melse\u001b[39;00m Wires(wires) \u001b[38;5;28;01mfor\u001b[39;00m wires \u001b[38;5;129;01min\u001b[39;00m list_of_wires\n\u001b[1;32m    436\u001b[0m )\n\u001b[0;32m--> 437\u001b[0m all_wires_list \u001b[38;5;241m=\u001b[39m \u001b[43mitertools\u001b[49m\u001b[38;5;241;43m.\u001b[39;49m\u001b[43mchain\u001b[49m\u001b[43m(\u001b[49m\u001b[38;5;241;43m*\u001b[39;49m\u001b[43m(\u001b[49m\u001b[43mw\u001b[49m\u001b[38;5;241;43m.\u001b[39;49m\u001b[43mlabels\u001b[49m\u001b[43m \u001b[49m\u001b[38;5;28;43;01mfor\u001b[39;49;00m\u001b[43m \u001b[49m\u001b[43mw\u001b[49m\u001b[43m \u001b[49m\u001b[38;5;129;43;01min\u001b[39;49;00m\u001b[43m \u001b[49m\u001b[43mconverted_wires\u001b[49m\u001b[43m)\u001b[49m\u001b[43m)\u001b[49m\n\u001b[1;32m    438\u001b[0m combined \u001b[38;5;241m=\u001b[39m \u001b[38;5;28mlist\u001b[39m(\u001b[38;5;28mdict\u001b[39m\u001b[38;5;241m.\u001b[39mfromkeys(all_wires_list))\n\u001b[1;32m    440\u001b[0m \u001b[38;5;28;01mif\u001b[39;00m sort:\n",
      "File \u001b[0;32m~/Developer/MasterThesis/master-thesis-quantumkernelclassification/.venv/lib/python3.12/site-packages/pennylane/wires.py:437\u001b[0m, in \u001b[0;36m<genexpr>\u001b[0;34m(.0)\u001b[0m\n\u001b[1;32m    413\u001b[0m \u001b[38;5;250m\u001b[39m\u001b[38;5;124;03m\"\"\"Return the wires that appear in any of the Wires objects in the list.\u001b[39;00m\n\u001b[1;32m    414\u001b[0m \n\u001b[1;32m    415\u001b[0m \u001b[38;5;124;03mThis is similar to a set combine method, but keeps the order of wires as they appear in the list.\u001b[39;00m\n\u001b[0;32m   (...)\u001b[0m\n\u001b[1;32m    432\u001b[0m \u001b[38;5;124;03m<Wires = [4, 0, 1, 3, 5]>\u001b[39;00m\n\u001b[1;32m    433\u001b[0m \u001b[38;5;124;03m\"\"\"\u001b[39;00m\n\u001b[1;32m    434\u001b[0m converted_wires \u001b[38;5;241m=\u001b[39m (\n\u001b[1;32m    435\u001b[0m     wires \u001b[38;5;28;01mif\u001b[39;00m \u001b[38;5;28misinstance\u001b[39m(wires, Wires) \u001b[38;5;28;01melse\u001b[39;00m Wires(wires) \u001b[38;5;28;01mfor\u001b[39;00m wires \u001b[38;5;129;01min\u001b[39;00m list_of_wires\n\u001b[1;32m    436\u001b[0m )\n\u001b[0;32m--> 437\u001b[0m all_wires_list \u001b[38;5;241m=\u001b[39m itertools\u001b[38;5;241m.\u001b[39mchain(\u001b[38;5;241m*\u001b[39m(w\u001b[38;5;241m.\u001b[39mlabels \u001b[38;5;28;01mfor\u001b[39;00m w \u001b[38;5;129;01min\u001b[39;00m converted_wires))\n\u001b[1;32m    438\u001b[0m combined \u001b[38;5;241m=\u001b[39m \u001b[38;5;28mlist\u001b[39m(\u001b[38;5;28mdict\u001b[39m\u001b[38;5;241m.\u001b[39mfromkeys(all_wires_list))\n\u001b[1;32m    440\u001b[0m \u001b[38;5;28;01mif\u001b[39;00m sort:\n",
      "\u001b[0;31mKeyboardInterrupt\u001b[0m: "
     ]
    }
   ],
   "source": [
    "print(\"Kernel Alignment with Gradient Descent with Active Learning\")\n",
    "\"\"\"\n",
    "\n",
    "trained_kernel = lambda x1, x2: kernel(x1, x2, params)\n",
    "trained_kernel_matrix = lambda X1, X2: qml.kernels.kernel_matrix(X1, X2, trained_kernel)\n",
    "svm_trained = SVC(kernel=trained_kernel_matrix, probability=True)\n",
    "svm_trained.fit(X, Y)\n",
    "\n",
    "accuracy_trained = accuracy(svm_trained, X, Y)\n",
    "print(f\"The accuracy of a kernel with trained parameters is {accuracy_trained:.3f}\")\n",
    "\"\"\"\n",
    "params = init_params\n",
    "opt = qml.GradientDescentOptimizer(0.2)\n",
    "\n",
    "for i in range(50):\n",
    "    # Choose subset of datapoints to compute the KTA on.\n",
    "    \n",
    "    #subset = np.random.choice(list(range(len(X))), 4) \n",
    "    trained_kernel = lambda x1, x2: kernel(x1, x2, params)\n",
    "    trained_kernel_matrix = lambda X1, X2: qml.kernels.kernel_matrix(X1, X2, trained_kernel)\n",
    "    svm_trained = SVC(kernel=trained_kernel_matrix, probability=True).fit(X, Y)\n",
    "    \n",
    "    subset = uncertinitySamplingSubset(X, svm_trained=svm_trained, subSize=4)\n",
    "\n",
    "    #print(type(subset))\n",
    "    #print(type(Y))\n",
    "    \n",
    "    # Define the cost function for optimization\n",
    "    cost = lambda _params: -target_alignment(\n",
    "        X[subset],\n",
    "        Y[subset],\n",
    "        lambda x1, x2: kernel(x1, x2, _params),\n",
    "        assume_normalized_kernel=True,\n",
    "    )\n",
    "    \n",
    "    # Optimization step\n",
    "    params = opt.step(cost, params)\n",
    "\n",
    "    # Report the alignment on the full dataset every 50 steps.\n",
    "    if (i + 1) % 10 == 0:\n",
    "        current_alignment = target_alignment(\n",
    "            X,\n",
    "            Y,\n",
    "            lambda x1, x2: kernel(x1, x2, params),\n",
    "            assume_normalized_kernel=True,\n",
    "        )\n",
    "        print(f\"Step {i+1} - Alignment = {current_alignment:.3f}\")\n",
    "\n",
    "trained_kernel = lambda x1, x2: kernel(x1, x2, params)\n",
    "trained_kernel_matrix = lambda X1, X2: qml.kernels.kernel_matrix(X1, X2, trained_kernel)\n",
    "svm_trained = SVC(kernel=trained_kernel_matrix).fit(X, Y)\n",
    "\n",
    "accuracy_trained = accuracy(svm_trained, X, Y)\n",
    "print(f\"The accuracy of a kernel with trained parameters is {accuracy_trained:.3f}\")"
   ]
  },
  {
   "cell_type": "code",
   "execution_count": 58,
   "metadata": {},
   "outputs": [
    {
     "name": "stdout",
     "output_type": "stream",
     "text": [
      "Kernel Alignment with Gradient Descent with Active Learning\n",
      "Step 10 - Alignment = 0.647\n",
      "Step 20 - Alignment = 0.674\n",
      "Step 30 - Alignment = 0.686\n",
      "Step 40 - Alignment = 0.691\n",
      "Step 50 - Alignment = 0.716\n",
      "The accuracy of a kernel with trained parameters is 0.731\n"
     ]
    }
   ],
   "source": [
    "print(\"Kernel Alignment with Gradient Descent with Active Learning\")\n",
    "\"\"\"\n",
    "\n",
    "trained_kernel = lambda x1, x2: kernel(x1, x2, params)\n",
    "trained_kernel_matrix = lambda X1, X2: qml.kernels.kernel_matrix(X1, X2, trained_kernel)\n",
    "svm_trained = SVC(kernel=trained_kernel_matrix, probability=True)\n",
    "svm_trained.fit(X, Y)\n",
    "\n",
    "accuracy_trained = accuracy(svm_trained, X, Y)\n",
    "print(f\"The accuracy of a kernel with trained parameters is {accuracy_trained:.3f}\")\n",
    "\"\"\"\n",
    "params = init_params\n",
    "opt = qml.GradientDescentOptimizer(0.2)\n",
    "\n",
    "for i in range(50):\n",
    "    # Choose subset of datapoints to compute the KTA on.\n",
    "    \n",
    "    #subset = np.random.choice(list(range(len(X))), 4) \n",
    "    trained_kernel = lambda x1, x2: kernel(x1, x2, params)\n",
    "    trained_kernel_matrix = lambda X1, X2: qml.kernels.kernel_matrix(X1, X2, trained_kernel)\n",
    "    svm_trained = SVC(kernel=trained_kernel_matrix, probability=True).fit(X, Y)\n",
    "    \n",
    "    subset = uncertinitySamplingSubset(X, svm_trained=svm_trained, subSize=4, ranking=True)\n",
    "\n",
    "    #print(type(subset))\n",
    "    #print(type(Y))\n",
    "    \n",
    "    # Define the cost function for optimization\n",
    "    cost = lambda _params: -target_alignment(\n",
    "        X[subset],\n",
    "        Y[subset],\n",
    "        lambda x1, x2: kernel(x1, x2, _params),\n",
    "        assume_normalized_kernel=True,\n",
    "    )\n",
    "    \n",
    "    # Optimization step\n",
    "    params = opt.step(cost, params)\n",
    "\n",
    "    # Report the alignment on the full dataset every 50 steps.\n",
    "    if (i + 1) % 10 == 0:\n",
    "        current_alignment = target_alignment(\n",
    "            X,\n",
    "            Y,\n",
    "            lambda x1, x2: kernel(x1, x2, params),\n",
    "            assume_normalized_kernel=True,\n",
    "        )\n",
    "        print(f\"Step {i+1} - Alignment = {current_alignment:.3f}\")\n",
    "\n",
    "trained_kernel = lambda x1, x2: kernel(x1, x2, params)\n",
    "trained_kernel_matrix = lambda X1, X2: qml.kernels.kernel_matrix(X1, X2, trained_kernel)\n",
    "svm_trained = SVC(kernel=trained_kernel_matrix).fit(X, Y)\n",
    "\n",
    "accuracy_trained = accuracy(svm_trained, X, Y)\n",
    "print(f\"The accuracy of a kernel with trained parameters is {accuracy_trained:.3f}\")"
   ]
  },
  {
   "cell_type": "code",
   "execution_count": 60,
   "metadata": {},
   "outputs": [
    {
     "name": "stdout",
     "output_type": "stream",
     "text": [
      "0.7916666666666666\n",
      "              precision    recall  f1-score   support\n",
      "\n",
      "           1       0.75      0.75      0.75         4\n",
      "           2       0.60      0.75      0.67         4\n",
      "           3       1.00      1.00      1.00         2\n",
      "           4       0.00      0.00      0.00         1\n",
      "           5       0.60      1.00      0.75         3\n",
      "           6       1.00      0.80      0.89        10\n",
      "\n",
      "    accuracy                           0.79        24\n",
      "   macro avg       0.66      0.72      0.68        24\n",
      "weighted avg       0.80      0.79      0.78        24\n",
      "\n"
     ]
    },
    {
     "name": "stderr",
     "output_type": "stream",
     "text": [
      "/Users/digvijay/Developer/MasterThesis/master-thesis-quantumkernelclassification/.venv/lib/python3.12/site-packages/sklearn/metrics/_classification.py:1509: UndefinedMetricWarning: Precision is ill-defined and being set to 0.0 in labels with no predicted samples. Use `zero_division` parameter to control this behavior.\n",
      "  _warn_prf(average, modifier, f\"{metric.capitalize()} is\", len(result))\n",
      "/Users/digvijay/Developer/MasterThesis/master-thesis-quantumkernelclassification/.venv/lib/python3.12/site-packages/sklearn/metrics/_classification.py:1509: UndefinedMetricWarning: Precision is ill-defined and being set to 0.0 in labels with no predicted samples. Use `zero_division` parameter to control this behavior.\n",
      "  _warn_prf(average, modifier, f\"{metric.capitalize()} is\", len(result))\n",
      "/Users/digvijay/Developer/MasterThesis/master-thesis-quantumkernelclassification/.venv/lib/python3.12/site-packages/sklearn/metrics/_classification.py:1509: UndefinedMetricWarning: Precision is ill-defined and being set to 0.0 in labels with no predicted samples. Use `zero_division` parameter to control this behavior.\n",
      "  _warn_prf(average, modifier, f\"{metric.capitalize()} is\", len(result))\n"
     ]
    }
   ],
   "source": [
    "from sklearn.metrics import accuracy_score, classification_report\n",
    "\n",
    "y_pred = svm_trained.predict(X_test)\n",
    "accuracy = accuracy_score(Y_test, y_pred)\n",
    "report = classification_report(Y_test, y_pred)\n",
    "print(accuracy)\n",
    "print(report)"
   ]
  },
  {
   "cell_type": "code",
   "execution_count": null,
   "metadata": {},
   "outputs": [],
   "source": []
  }
 ],
 "metadata": {
  "kernelspec": {
   "display_name": ".venv",
   "language": "python",
   "name": "python3"
  },
  "language_info": {
   "codemirror_mode": {
    "name": "ipython",
    "version": 3
   },
   "file_extension": ".py",
   "mimetype": "text/x-python",
   "name": "python",
   "nbconvert_exporter": "python",
   "pygments_lexer": "ipython3",
   "version": "3.12.1"
  }
 },
 "nbformat": 4,
 "nbformat_minor": 2
}
